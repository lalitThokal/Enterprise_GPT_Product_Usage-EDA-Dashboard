{
 "cells": [
  {
   "cell_type": "code",
   "execution_count": 75,
   "id": "e72c9f00",
   "metadata": {},
   "outputs": [],
   "source": [
    "import pandas as pd\n",
    "import numpy as np\n",
    "import seaborn as sns\n",
    "import matplotlib as mb"
   ]
  },
  {
   "cell_type": "code",
   "execution_count": 76,
   "id": "f5aea4df",
   "metadata": {},
   "outputs": [],
   "source": [
    "# Loading the csv file using pandas\n",
    "\n",
    "df=pd.read_csv('Enterprise_GPT_Product_Usage_Dataset.csv')     "
   ]
  },
  {
   "cell_type": "code",
   "execution_count": 77,
   "id": "d86bda9d",
   "metadata": {},
   "outputs": [
    {
     "data": {
      "text/html": [
       "<div>\n",
       "<style scoped>\n",
       "    .dataframe tbody tr th:only-of-type {\n",
       "        vertical-align: middle;\n",
       "    }\n",
       "\n",
       "    .dataframe tbody tr th {\n",
       "        vertical-align: top;\n",
       "    }\n",
       "\n",
       "    .dataframe thead th {\n",
       "        text-align: right;\n",
       "    }\n",
       "</style>\n",
       "<table border=\"1\" class=\"dataframe\">\n",
       "  <thead>\n",
       "    <tr style=\"text-align: right;\">\n",
       "      <th></th>\n",
       "      <th>user_id</th>\n",
       "      <th>session_id</th>\n",
       "      <th>timestamp</th>\n",
       "      <th>interaction_type</th>\n",
       "      <th>query_length</th>\n",
       "      <th>response_time</th>\n",
       "      <th>user_rating</th>\n",
       "      <th>error_occurred</th>\n",
       "      <th>industry</th>\n",
       "      <th>location</th>\n",
       "      <th>subscription_level</th>\n",
       "    </tr>\n",
       "  </thead>\n",
       "  <tbody>\n",
       "    <tr>\n",
       "      <th>0</th>\n",
       "      <td>1</td>\n",
       "      <td>153</td>\n",
       "      <td>2/1/2024 17:51</td>\n",
       "      <td>feedback</td>\n",
       "      <td>90</td>\n",
       "      <td>2.228193</td>\n",
       "      <td>1</td>\n",
       "      <td>False</td>\n",
       "      <td>education</td>\n",
       "      <td>North Laurafort, Djibouti</td>\n",
       "      <td>premium</td>\n",
       "    </tr>\n",
       "    <tr>\n",
       "      <th>1</th>\n",
       "      <td>2</td>\n",
       "      <td>153</td>\n",
       "      <td>5/11/2024 3:48</td>\n",
       "      <td>feedback</td>\n",
       "      <td>90</td>\n",
       "      <td>2.902168</td>\n",
       "      <td>3</td>\n",
       "      <td>True</td>\n",
       "      <td>healthcare</td>\n",
       "      <td>West Sarah, Belgium</td>\n",
       "      <td>enterprise</td>\n",
       "    </tr>\n",
       "    <tr>\n",
       "      <th>2</th>\n",
       "      <td>3</td>\n",
       "      <td>103</td>\n",
       "      <td>5/6/2024 11:17</td>\n",
       "      <td>error</td>\n",
       "      <td>27</td>\n",
       "      <td>2.212646</td>\n",
       "      <td>1</td>\n",
       "      <td>False</td>\n",
       "      <td>finance</td>\n",
       "      <td>Jonathonstad, Costa Rica</td>\n",
       "      <td>premium</td>\n",
       "    </tr>\n",
       "    <tr>\n",
       "      <th>3</th>\n",
       "      <td>4</td>\n",
       "      <td>147</td>\n",
       "      <td>8/8/2024 16:32</td>\n",
       "      <td>error</td>\n",
       "      <td>33</td>\n",
       "      <td>1.090335</td>\n",
       "      <td>2</td>\n",
       "      <td>True</td>\n",
       "      <td>education</td>\n",
       "      <td>Hensonview, Montserrat</td>\n",
       "      <td>enterprise</td>\n",
       "    </tr>\n",
       "    <tr>\n",
       "      <th>4</th>\n",
       "      <td>5</td>\n",
       "      <td>148</td>\n",
       "      <td>7/4/2024 14:45</td>\n",
       "      <td>query</td>\n",
       "      <td>89</td>\n",
       "      <td>2.744271</td>\n",
       "      <td>4</td>\n",
       "      <td>False</td>\n",
       "      <td>finance</td>\n",
       "      <td>Salazarport, Indonesia</td>\n",
       "      <td>enterprise</td>\n",
       "    </tr>\n",
       "  </tbody>\n",
       "</table>\n",
       "</div>"
      ],
      "text/plain": [
       "   user_id  session_id       timestamp interaction_type  query_length  \\\n",
       "0        1         153  2/1/2024 17:51         feedback            90   \n",
       "1        2         153  5/11/2024 3:48         feedback            90   \n",
       "2        3         103  5/6/2024 11:17            error            27   \n",
       "3        4         147  8/8/2024 16:32            error            33   \n",
       "4        5         148  7/4/2024 14:45            query            89   \n",
       "\n",
       "   response_time  user_rating  error_occurred    industry  \\\n",
       "0       2.228193            1           False   education   \n",
       "1       2.902168            3            True  healthcare   \n",
       "2       2.212646            1           False     finance   \n",
       "3       1.090335            2            True   education   \n",
       "4       2.744271            4           False     finance   \n",
       "\n",
       "                    location subscription_level  \n",
       "0  North Laurafort, Djibouti            premium  \n",
       "1        West Sarah, Belgium         enterprise  \n",
       "2   Jonathonstad, Costa Rica            premium  \n",
       "3     Hensonview, Montserrat         enterprise  \n",
       "4     Salazarport, Indonesia         enterprise  "
      ]
     },
     "execution_count": 77,
     "metadata": {},
     "output_type": "execute_result"
    }
   ],
   "source": [
    "# Showing top 5 rows of the dataset\n",
    "\n",
    "df.head()     "
   ]
  },
  {
   "cell_type": "code",
   "execution_count": 78,
   "id": "becfe047",
   "metadata": {},
   "outputs": [
    {
     "data": {
      "text/plain": [
       "(1000, 11)"
      ]
     },
     "execution_count": 78,
     "metadata": {},
     "output_type": "execute_result"
    }
   ],
   "source": [
    "# Checking number of rows and columns\n",
    "\n",
    "df.shape           "
   ]
  },
  {
   "cell_type": "code",
   "execution_count": 79,
   "id": "1f822009",
   "metadata": {},
   "outputs": [
    {
     "name": "stdout",
     "output_type": "stream",
     "text": [
      "<class 'pandas.core.frame.DataFrame'>\n",
      "RangeIndex: 1000 entries, 0 to 999\n",
      "Data columns (total 11 columns):\n",
      " #   Column              Non-Null Count  Dtype  \n",
      "---  ------              --------------  -----  \n",
      " 0   user_id             1000 non-null   int64  \n",
      " 1   session_id          1000 non-null   int64  \n",
      " 2   timestamp           1000 non-null   object \n",
      " 3   interaction_type    1000 non-null   object \n",
      " 4   query_length        1000 non-null   int64  \n",
      " 5   response_time       1000 non-null   float64\n",
      " 6   user_rating         1000 non-null   int64  \n",
      " 7   error_occurred      1000 non-null   bool   \n",
      " 8   industry            1000 non-null   object \n",
      " 9   location            1000 non-null   object \n",
      " 10  subscription_level  1000 non-null   object \n",
      "dtypes: bool(1), float64(1), int64(4), object(5)\n",
      "memory usage: 79.2+ KB\n"
     ]
    }
   ],
   "source": [
    " # Showing info about the dataset\n",
    "\n",
    "df.info()                                                "
   ]
  },
  {
   "cell_type": "code",
   "execution_count": null,
   "id": "739a0a2d",
   "metadata": {},
   "outputs": [],
   "source": []
  },
  {
   "cell_type": "code",
   "execution_count": 80,
   "id": "8f792780",
   "metadata": {},
   "outputs": [
    {
     "name": "stdout",
     "output_type": "stream",
     "text": [
      "<class 'pandas.core.frame.DataFrame'>\n",
      "RangeIndex: 1000 entries, 0 to 999\n",
      "Data columns (total 11 columns):\n",
      " #   Column              Non-Null Count  Dtype         \n",
      "---  ------              --------------  -----         \n",
      " 0   user_id             1000 non-null   int64         \n",
      " 1   session_id          1000 non-null   int64         \n",
      " 2   timestamp           1000 non-null   datetime64[ns]\n",
      " 3   interaction_type    1000 non-null   object        \n",
      " 4   query_length        1000 non-null   int64         \n",
      " 5   response_time       1000 non-null   float64       \n",
      " 6   user_rating         1000 non-null   int64         \n",
      " 7   error_occurred      1000 non-null   bool          \n",
      " 8   industry            1000 non-null   object        \n",
      " 9   location            1000 non-null   object        \n",
      " 10  subscription_level  1000 non-null   object        \n",
      "dtypes: bool(1), datetime64[ns](1), float64(1), int64(4), object(4)\n",
      "memory usage: 79.2+ KB\n"
     ]
    }
   ],
   "source": [
    "# Converted Datatype of 'timestamp' column to Date_Time\n",
    "\n",
    "df['timestamp']=pd.to_datetime(df['timestamp'])\n",
    "df.info()"
   ]
  },
  {
   "cell_type": "code",
   "execution_count": null,
   "id": "28b716df",
   "metadata": {},
   "outputs": [],
   "source": []
  },
  {
   "cell_type": "code",
   "execution_count": 81,
   "id": "50ef21d3",
   "metadata": {
    "scrolled": true
   },
   "outputs": [
    {
     "data": {
      "text/html": [
       "<div>\n",
       "<style scoped>\n",
       "    .dataframe tbody tr th:only-of-type {\n",
       "        vertical-align: middle;\n",
       "    }\n",
       "\n",
       "    .dataframe tbody tr th {\n",
       "        vertical-align: top;\n",
       "    }\n",
       "\n",
       "    .dataframe thead th {\n",
       "        text-align: right;\n",
       "    }\n",
       "</style>\n",
       "<table border=\"1\" class=\"dataframe\">\n",
       "  <thead>\n",
       "    <tr style=\"text-align: right;\">\n",
       "      <th></th>\n",
       "      <th>user_id</th>\n",
       "      <th>session_id</th>\n",
       "      <th>timestamp</th>\n",
       "      <th>query_length</th>\n",
       "      <th>response_time</th>\n",
       "      <th>user_rating</th>\n",
       "    </tr>\n",
       "  </thead>\n",
       "  <tbody>\n",
       "    <tr>\n",
       "      <th>count</th>\n",
       "      <td>1000.000000</td>\n",
       "      <td>1000.00000</td>\n",
       "      <td>1000</td>\n",
       "      <td>1000.000000</td>\n",
       "      <td>1000.000000</td>\n",
       "      <td>1000.000000</td>\n",
       "    </tr>\n",
       "    <tr>\n",
       "      <th>mean</th>\n",
       "      <td>500.500000</td>\n",
       "      <td>149.62700</td>\n",
       "      <td>2024-05-08 15:57:26.159999744</td>\n",
       "      <td>54.937000</td>\n",
       "      <td>2.004946</td>\n",
       "      <td>3.025000</td>\n",
       "    </tr>\n",
       "    <tr>\n",
       "      <th>min</th>\n",
       "      <td>1.000000</td>\n",
       "      <td>100.00000</td>\n",
       "      <td>2024-01-01 04:05:00</td>\n",
       "      <td>10.000000</td>\n",
       "      <td>1.002482</td>\n",
       "      <td>1.000000</td>\n",
       "    </tr>\n",
       "    <tr>\n",
       "      <th>25%</th>\n",
       "      <td>250.750000</td>\n",
       "      <td>125.00000</td>\n",
       "      <td>2024-03-01 04:01:15</td>\n",
       "      <td>33.000000</td>\n",
       "      <td>1.486286</td>\n",
       "      <td>2.000000</td>\n",
       "    </tr>\n",
       "    <tr>\n",
       "      <th>50%</th>\n",
       "      <td>500.500000</td>\n",
       "      <td>150.00000</td>\n",
       "      <td>2024-05-09 02:01:00</td>\n",
       "      <td>55.000000</td>\n",
       "      <td>2.008495</td>\n",
       "      <td>3.000000</td>\n",
       "    </tr>\n",
       "    <tr>\n",
       "      <th>75%</th>\n",
       "      <td>750.250000</td>\n",
       "      <td>175.00000</td>\n",
       "      <td>2024-07-15 10:14:15</td>\n",
       "      <td>77.000000</td>\n",
       "      <td>2.519914</td>\n",
       "      <td>4.000000</td>\n",
       "    </tr>\n",
       "    <tr>\n",
       "      <th>max</th>\n",
       "      <td>1000.000000</td>\n",
       "      <td>199.00000</td>\n",
       "      <td>2024-09-13 03:20:00</td>\n",
       "      <td>99.000000</td>\n",
       "      <td>2.999848</td>\n",
       "      <td>5.000000</td>\n",
       "    </tr>\n",
       "    <tr>\n",
       "      <th>std</th>\n",
       "      <td>288.819436</td>\n",
       "      <td>28.96444</td>\n",
       "      <td>NaN</td>\n",
       "      <td>25.779053</td>\n",
       "      <td>0.586859</td>\n",
       "      <td>1.398689</td>\n",
       "    </tr>\n",
       "  </tbody>\n",
       "</table>\n",
       "</div>"
      ],
      "text/plain": [
       "           user_id  session_id                      timestamp  query_length  \\\n",
       "count  1000.000000  1000.00000                           1000   1000.000000   \n",
       "mean    500.500000   149.62700  2024-05-08 15:57:26.159999744     54.937000   \n",
       "min       1.000000   100.00000            2024-01-01 04:05:00     10.000000   \n",
       "25%     250.750000   125.00000            2024-03-01 04:01:15     33.000000   \n",
       "50%     500.500000   150.00000            2024-05-09 02:01:00     55.000000   \n",
       "75%     750.250000   175.00000            2024-07-15 10:14:15     77.000000   \n",
       "max    1000.000000   199.00000            2024-09-13 03:20:00     99.000000   \n",
       "std     288.819436    28.96444                            NaN     25.779053   \n",
       "\n",
       "       response_time  user_rating  \n",
       "count    1000.000000  1000.000000  \n",
       "mean        2.004946     3.025000  \n",
       "min         1.002482     1.000000  \n",
       "25%         1.486286     2.000000  \n",
       "50%         2.008495     3.000000  \n",
       "75%         2.519914     4.000000  \n",
       "max         2.999848     5.000000  \n",
       "std         0.586859     1.398689  "
      ]
     },
     "execution_count": 81,
     "metadata": {},
     "output_type": "execute_result"
    }
   ],
   "source": [
    "# Key Statistics\n",
    "\n",
    "df.describe()                                                                        "
   ]
  },
  {
   "cell_type": "code",
   "execution_count": 82,
   "id": "a0a40198",
   "metadata": {},
   "outputs": [
    {
     "name": "stdout",
     "output_type": "stream",
     "text": [
      "Average Length of Query: 55.0 Characters\n"
     ]
    }
   ],
   "source": [
    "# Average Length of Query\n",
    "\n",
    "print('Average Length of Query:',round(df['query_length'].mean(),0),'Characters' )     "
   ]
  },
  {
   "cell_type": "code",
   "execution_count": 83,
   "id": "2c4bd455",
   "metadata": {},
   "outputs": [
    {
     "name": "stdout",
     "output_type": "stream",
     "text": [
      "Average response_time: 2.0 Seconds\n"
     ]
    }
   ],
   "source": [
    "# Average response_time\n",
    "\n",
    "print('Average response_time:',round(df['response_time'].mean(),0),'Seconds'   ) "
   ]
  },
  {
   "cell_type": "code",
   "execution_count": 84,
   "id": "946a04fa",
   "metadata": {},
   "outputs": [
    {
     "data": {
      "text/plain": [
       "user_id               0\n",
       "session_id            0\n",
       "timestamp             0\n",
       "interaction_type      0\n",
       "query_length          0\n",
       "response_time         0\n",
       "user_rating           0\n",
       "error_occurred        0\n",
       "industry              0\n",
       "location              0\n",
       "subscription_level    0\n",
       "dtype: int64"
      ]
     },
     "execution_count": 84,
     "metadata": {},
     "output_type": "execute_result"
    }
   ],
   "source": [
    "df.isnull().sum()      # Checking NULL Values"
   ]
  },
  {
   "cell_type": "code",
   "execution_count": null,
   "id": "5fe05e33",
   "metadata": {},
   "outputs": [],
   "source": []
  },
  {
   "cell_type": "code",
   "execution_count": 85,
   "id": "12e1eb57",
   "metadata": {},
   "outputs": [
    {
     "data": {
      "text/plain": [
       "user_id               1000\n",
       "session_id             100\n",
       "timestamp              998\n",
       "interaction_type         3\n",
       "query_length            90\n",
       "response_time         1000\n",
       "user_rating              5\n",
       "error_occurred           2\n",
       "industry                 3\n",
       "location               999\n",
       "subscription_level       3\n",
       "dtype: int64"
      ]
     },
     "execution_count": 85,
     "metadata": {},
     "output_type": "execute_result"
    }
   ],
   "source": [
    "df.nunique()"
   ]
  },
  {
   "cell_type": "code",
   "execution_count": null,
   "id": "98c2bb5c",
   "metadata": {},
   "outputs": [],
   "source": []
  },
  {
   "cell_type": "code",
   "execution_count": 86,
   "id": "27ff58bd",
   "metadata": {},
   "outputs": [
    {
     "data": {
      "text/plain": [
       "timestamp\n",
       "2024-09-07 21:27:00    2\n",
       "2024-08-21 19:46:00    2\n",
       "Name: count, dtype: int64"
      ]
     },
     "execution_count": 86,
     "metadata": {},
     "output_type": "execute_result"
    }
   ],
   "source": [
    "c= df['timestamp'].value_counts()\n",
    "duplicate=c[c>1]\n",
    "duplicate"
   ]
  },
  {
   "cell_type": "code",
   "execution_count": null,
   "id": "47cee092",
   "metadata": {},
   "outputs": [],
   "source": []
  },
  {
   "cell_type": "code",
   "execution_count": 87,
   "id": "ec6f9111",
   "metadata": {},
   "outputs": [
    {
     "data": {
      "text/html": [
       "<div>\n",
       "<style scoped>\n",
       "    .dataframe tbody tr th:only-of-type {\n",
       "        vertical-align: middle;\n",
       "    }\n",
       "\n",
       "    .dataframe tbody tr th {\n",
       "        vertical-align: top;\n",
       "    }\n",
       "\n",
       "    .dataframe thead th {\n",
       "        text-align: right;\n",
       "    }\n",
       "</style>\n",
       "<table border=\"1\" class=\"dataframe\">\n",
       "  <thead>\n",
       "    <tr style=\"text-align: right;\">\n",
       "      <th></th>\n",
       "      <th>user_id</th>\n",
       "      <th>session_id</th>\n",
       "      <th>timestamp</th>\n",
       "      <th>interaction_type</th>\n",
       "      <th>query_length</th>\n",
       "      <th>response_time</th>\n",
       "      <th>user_rating</th>\n",
       "      <th>error_occurred</th>\n",
       "      <th>industry</th>\n",
       "      <th>location</th>\n",
       "      <th>subscription_level</th>\n",
       "    </tr>\n",
       "  </thead>\n",
       "  <tbody>\n",
       "    <tr>\n",
       "      <th>224</th>\n",
       "      <td>225</td>\n",
       "      <td>112</td>\n",
       "      <td>2024-09-07 21:27:00</td>\n",
       "      <td>query</td>\n",
       "      <td>41</td>\n",
       "      <td>2.746938</td>\n",
       "      <td>3</td>\n",
       "      <td>True</td>\n",
       "      <td>education</td>\n",
       "      <td>Port James, Croatia</td>\n",
       "      <td>premium</td>\n",
       "    </tr>\n",
       "    <tr>\n",
       "      <th>974</th>\n",
       "      <td>975</td>\n",
       "      <td>140</td>\n",
       "      <td>2024-09-07 21:27:00</td>\n",
       "      <td>feedback</td>\n",
       "      <td>92</td>\n",
       "      <td>1.773346</td>\n",
       "      <td>5</td>\n",
       "      <td>False</td>\n",
       "      <td>finance</td>\n",
       "      <td>Patriciamouth, Philippines</td>\n",
       "      <td>free</td>\n",
       "    </tr>\n",
       "  </tbody>\n",
       "</table>\n",
       "</div>"
      ],
      "text/plain": [
       "     user_id  session_id           timestamp interaction_type  query_length  \\\n",
       "224      225         112 2024-09-07 21:27:00            query            41   \n",
       "974      975         140 2024-09-07 21:27:00         feedback            92   \n",
       "\n",
       "     response_time  user_rating  error_occurred   industry  \\\n",
       "224       2.746938            3            True  education   \n",
       "974       1.773346            5           False    finance   \n",
       "\n",
       "                       location subscription_level  \n",
       "224         Port James, Croatia            premium  \n",
       "974  Patriciamouth, Philippines               free  "
      ]
     },
     "execution_count": 87,
     "metadata": {},
     "output_type": "execute_result"
    }
   ],
   "source": [
    "filtered=df.loc[df['timestamp']=='2024-09-07 21:27:00']\n",
    "filtered"
   ]
  },
  {
   "cell_type": "code",
   "execution_count": null,
   "id": "e7452e0c",
   "metadata": {},
   "outputs": [],
   "source": []
  },
  {
   "cell_type": "code",
   "execution_count": 88,
   "id": "2f60aeee",
   "metadata": {},
   "outputs": [
    {
     "data": {
      "text/plain": [
       "(['user_id',\n",
       "  'session_id',\n",
       "  'timestamp',\n",
       "  'query_length',\n",
       "  'response_time',\n",
       "  'location'],\n",
       " ['interaction_type',\n",
       "  'user_rating',\n",
       "  'error_occurred',\n",
       "  'industry',\n",
       "  'subscription_level'])"
      ]
     },
     "execution_count": 88,
     "metadata": {},
     "output_type": "execute_result"
    }
   ],
   "source": [
    "# Seperating Numerical and Categorical Values\n",
    "\n",
    "Categorical=[]\n",
    "Numerical=[]\n",
    "\n",
    "for x in df:\n",
    "    if df[x].nunique() > 10:\n",
    "        Numerical.append(x)\n",
    "    else:\n",
    "        Categorical.append(x)\n",
    "\n",
    "Numerical,Categorical\n",
    "        "
   ]
  },
  {
   "cell_type": "code",
   "execution_count": null,
   "id": "4a971ef7",
   "metadata": {},
   "outputs": [],
   "source": []
  },
  {
   "cell_type": "code",
   "execution_count": 89,
   "id": "735ef0c5",
   "metadata": {},
   "outputs": [
    {
     "data": {
      "text/plain": [
       "<Axes: >"
      ]
     },
     "execution_count": 89,
     "metadata": {},
     "output_type": "execute_result"
    },
    {
     "data": {
      "image/png": "[encoded data removed]",
      "text/plain": [
       "<Figure size 640x480 with 1 Axes>"
      ]
     },
     "metadata": {},
     "output_type": "display_data"
    }
   ],
   "source": [
    "# Looking for outliers in Query_Length\n",
    "\n",
    "df.boxplot(column=['query_length'])                          "
   ]
  },
  {
   "cell_type": "code",
   "execution_count": 90,
   "id": "9d9111b7",
   "metadata": {},
   "outputs": [
    {
     "data": {
      "text/plain": [
       "<Axes: >"
      ]
     },
     "execution_count": 90,
     "metadata": {},
     "output_type": "execute_result"
    },
    {
     "data": {
      "image/png": "[encoded data removed]",
      "text/plain": [
       "<Figure size 640x480 with 1 Axes>"
      ]
     },
     "metadata": {},
     "output_type": "display_data"
    }
   ],
   "source": [
    "# Looking for outliers in response_time\n",
    "\n",
    "df.boxplot(column=['response_time'])"
   ]
  },
  {
   "cell_type": "markdown",
   "id": "6d7925b3",
   "metadata": {},
   "source": [
    "# Exploratory Data Analysis (EDA) Summary:"
   ]
  },
  {
   "cell_type": "code",
   "execution_count": null,
   "id": "f9d5d7e3",
   "metadata": {},
   "outputs": [],
   "source": [
    "\n",
    "1) Data Loading:\n",
    "Loaded the dataset using pandas and displayed the first few rows for an initial view of the structure.\n",
    "\n",
    "2) Basic Dataset Information:\n",
    "Checked the shape of the dataset (number of rows and columns) and reviewed data types using info() to understand the dataset's structure.\n",
    "Converted the timestamp column to datetime format for easier manipulation of date-related values.\n",
    "\n",
    "3) Descriptive Statistics:\n",
    "Generated summary statistics using describe() to examine key numerical metrics (mean, min, max, etc.).\n",
    "\n",
    "4) Calculated specific metrics such as:\n",
    "Average Query Length: Rounded to the nearest character.\n",
    "Average Response Time: Rounded to the nearest second.\n",
    "\n",
    "5) Handling Missing Values:\n",
    "Checked for missing values using isnull().sum() and verified the data’s completeness.\n",
    "\n",
    "6) Uniqueness Check:\n",
    "Used nunique() to identify unique values in each column, helping to detect potential duplicates.\n",
    "\n",
    "7) Duplicate Detection:\n",
    "Identified duplicate timestamps by counting occurrences with value_counts(), and filtered the dataset to inspect specific duplicate records.\n",
    "\n",
    "8) Categorical vs. Numerical Columns:\n",
    "Segregated columns into categorical and numerical groups based on the number of unique values.\n",
    "\n",
    "9) Outlier Detection:\n",
    "Used box plots to visualize outliers in query_length and response_time, identifying any anomalies in these columns."
   ]
  }
 ],
 "metadata": {
  "kernelspec": {
   "display_name": "Python 3 (ipykernel)",
   "language": "python",
   "name": "python3"
  },
  "language_info": {
   "codemirror_mode": {
    "name": "ipython",
    "version": 3
   },
   "file_extension": ".py",
   "mimetype": "text/x-python",
   "name": "python",
   "nbconvert_exporter": "python",
   "pygments_lexer": "ipython3",
   "version": "3.11.5"
  }
 },
 "nbformat": 4,
 "nbformat_minor": 5
}
